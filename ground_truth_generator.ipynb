{
  "nbformat": 4,
  "nbformat_minor": 0,
  "metadata": {
    "colab": {
      "provenance": []
    },
    "kernelspec": {
      "name": "python3",
      "display_name": "Python 3"
    },
    "language_info": {
      "name": "python"
    }
  },
  "cells": [
    {
      "cell_type": "code",
      "execution_count": null,
      "metadata": {
        "id": "rmBpTyA-Tso_"
      },
      "outputs": [],
      "source": [
        "!pip install datasets\n",
        "from datasets import load_dataset"
      ]
    },
    {
      "cell_type": "code",
      "source": [
        "objects_dataset = load_dataset(\"visual_genome\", \"objects_v1.2.0\", split='train')\n",
        "attributes_dataset = load_dataset(\"visual_genome\", \"attributes_v1.2.0\", split='train')\n",
        "relationships_dataset = load_dataset(\"visual_genome\", \"relationships_v1.2.0\", split='train')"
      ],
      "metadata": {
        "id": "_I-gb5VgW_l2"
      },
      "execution_count": null,
      "outputs": []
    },
    {
      "cell_type": "code",
      "source": [
        "from datasets import Dataset\n",
        "\n",
        "# Initialize dictionaries to store the extracted data and their associated image_ids\n",
        "extracted_objects = []\n",
        "extracted_attributes = []\n",
        "extracted_relationships = []\n",
        "\n",
        "# Define the batch processing functions\n",
        "def process_objects(batch):\n",
        "    for item in batch['objects']:\n",
        "        if item is not None:  # Check if the 'objects' field is not None\n",
        "            extracted_objects.extend(item)\n",
        "\n",
        "def process_attributes(batch):\n",
        "    for i, attrs in enumerate(batch['attributes']):\n",
        "        # Retrieve the corresponding image_id for the current list of attributes\n",
        "        current_image_id = batch['image_id'][i] if isinstance(batch['image_id'], list) else batch['image_id']\n",
        "        if attrs:  # Check if the 'attributes' field is not None\n",
        "            for attr in attrs:\n",
        "                if attr:  # If the attribute is not None\n",
        "                    # Add the current image_id to the attribute\n",
        "                    attr['image_id'] = current_image_id\n",
        "                    extracted_attributes.append(attr)\n",
        "\n",
        "def process_relationships(batch):\n",
        "    for item in batch['relationships']:\n",
        "        if item is not None:  # Check if the 'relationships' field is not None\n",
        "            extracted_relationships.extend(item)"
      ],
      "metadata": {
        "id": "yeWfd1m8XBIG"
      },
      "execution_count": null,
      "outputs": []
    },
    {
      "cell_type": "code",
      "source": [
        "objects_dataset.map(process_objects, batched=True, batch_size=1000)"
      ],
      "metadata": {
        "id": "C48n0iKTXHYM"
      },
      "execution_count": null,
      "outputs": []
    },
    {
      "cell_type": "code",
      "source": [
        "attributes_dataset.map(process_attributes, batched=True, batch_size=1000)"
      ],
      "metadata": {
        "id": "SQX7Zxp6XXUg"
      },
      "execution_count": null,
      "outputs": []
    },
    {
      "cell_type": "code",
      "source": [
        "relationships_dataset.map(process_relationships, batched=True, batch_size=1000)"
      ],
      "metadata": {
        "id": "OGzTv4ggXY0V"
      },
      "execution_count": null,
      "outputs": []
    },
    {
      "cell_type": "code",
      "source": [
        "#question 1:  Identify images that show different weather conditions impacting daily life, such as people using umbrellas during rain, wearing sunglasses on sunny days, or wrapping in scarves during snow."
      ],
      "metadata": {
        "id": "XgRu9lFbiYe0"
      },
      "execution_count": null,
      "outputs": []
    },
    {
      "cell_type": "code",
      "source": [
        "def filter_images_with_weather_impacts(extracted_objects, extracted_attributes, extracted_relationships):\n",
        "    people_ids = set()\n",
        "    weather_related_objects_ids = set()\n",
        "    outdoor_elements_ids = set()\n",
        "    image_ids = set()\n",
        "\n",
        "    # Step 1: Filter for People, Weather-related objects, and Outdoor elements from extracted objects\n",
        "    for obj in extracted_objects:\n",
        "        if 'person' in obj['names'] or 'man' in obj['names'] or 'woman' in obj['names']:\n",
        "            people_ids.add(obj['object_id'])\n",
        "        if 'umbrella' in obj['names'] or 'sunglasses' in obj['names'] or 'scarf' in obj['names']:\n",
        "            weather_related_objects_ids.add(obj['object_id'])\n",
        "        if 'sky' in obj['names'] or 'cloud' in obj['names'] or 'sun' in obj['names']:\n",
        "            outdoor_elements_ids.add(obj['object_id'])\n",
        "\n",
        "    print(f\"Step 1 - People IDs: {people_ids}\")\n",
        "    print(f\"Step 1 - Weather-related Objects IDs: {weather_related_objects_ids}\")\n",
        "    print(f\"Step 1 - Outdoor Elements IDs: {outdoor_elements_ids}\")\n",
        "\n",
        "    # Step 2: Identify relationships between people and weather-related objects or outdoor elements\n",
        "    for rel in extracted_relationships:\n",
        "        if (rel['subject']['object_id'] in people_ids and (rel['object']['object_id'] in weather_related_objects_ids or rel['object']['object_id'] in outdoor_elements_ids)) or \\\n",
        "           (rel['object']['object_id'] in people_ids and (rel['subject']['object_id'] in weather_related_objects_ids or rel['subject']['object_id'] in outdoor_elements_ids)):\n",
        "            image_ids.add(rel['image_id'])\n",
        "\n",
        "    print(f\"Step 2 - Potential Image IDs from relationships: {image_ids}\")\n",
        "\n",
        "    # Step 3: Confirm these image IDs based on attributes of weather and outdoor presence\n",
        "    confirmed_image_ids = set()\n",
        "    for attr in extracted_attributes:\n",
        "        if (attr['object_id'] in weather_related_objects_ids or attr['object_id'] in outdoor_elements_ids) and attr['image_id'] in image_ids:\n",
        "            if any(attr_val.lower() in ['rainy', 'sunny', 'snowy', 'cold', 'warm'] for attr_val in attr['attributes']):\n",
        "                confirmed_image_ids.add(attr['image_id'])\n",
        "\n",
        "    print(f\"Step 3 - Confirmed Image IDs: {confirmed_image_ids}\")\n",
        "\n",
        "    return list(confirmed_image_ids)\n",
        "\n",
        "# Assuming extracted_objects, extracted_attributes, and relationships_dataset are prepared\n",
        "image_ids = filter_images_with_weather_impacts(extracted_objects, extracted_attributes, extracted_relationships)"
      ],
      "metadata": {
        "id": "Mu7ycftRXZP1"
      },
      "execution_count": null,
      "outputs": []
    },
    {
      "cell_type": "code",
      "source": [
        "df = attributes_dataset.to_pandas()\n",
        "df[df['image_id'].isin(image_ids)]['url'].to_numpy()"
      ],
      "metadata": {
        "id": "0YSODdK2a0Dw"
      },
      "execution_count": null,
      "outputs": []
    },
    {
      "cell_type": "code",
      "source": [
        "#question 2: Find images of people (men or women) in urban settings where they are interacting with nature, such as walking dogs on grassy patches beside skyscrapers, sitting under trees in city squares, or jogging past large water fountains"
      ],
      "metadata": {
        "id": "1moq13J-ibt8"
      },
      "execution_count": null,
      "outputs": []
    },
    {
      "cell_type": "code",
      "source": [
        "def filter_images_with_people_nature_urban(extracted_objects, extracted_attributes, extracted_relationships):\n",
        "    people_ids = set()\n",
        "    nature_elements_ids = set()\n",
        "    urban_elements_ids = set()\n",
        "    outdoor_elements_ids = set()\n",
        "    image_ids = set()\n",
        "\n",
        "    # Step 1: Filter for People, Nature Elements, Urban Elements, and Outdoor Elements from extracted objects\n",
        "    for obj in extracted_objects:\n",
        "        if 'person' in obj['names'] or 'man' in obj['names'] or 'woman' in obj['names']:\n",
        "            people_ids.add(obj['object_id'])\n",
        "        if 'dog' in obj['names'] or 'tree' in obj['names'] or 'grass' in obj['names'] or 'fountain' in obj['names']:\n",
        "            nature_elements_ids.add(obj['object_id'])\n",
        "        if 'building' in obj['names'] or 'skyscraper' in obj['names'] or 'square' in obj['names'] or 'street' in obj['names']:\n",
        "            urban_elements_ids.add(obj['object_id'])\n",
        "        if 'sky' in obj['names'] or 'cloud' in obj['names'] or 'sun' in obj['names']:\n",
        "            outdoor_elements_ids.add(obj['object_id'])\n",
        "\n",
        "    print(f\"Step 1 - People IDs: {people_ids}\")\n",
        "    print(f\"Step 1 - Nature Elements IDs: {nature_elements_ids}\")\n",
        "    print(f\"Step 1 - Urban Elements IDs: {urban_elements_ids}\")\n",
        "    print(f\"Step 1 - Outdoor Elements IDs: {outdoor_elements_ids}\")\n",
        "\n",
        "    # Step 2: Identify relationships that connect people with nature elements in urban settings and outdoors\n",
        "    for rel in extracted_relationships:\n",
        "        if (rel['subject']['object_id'] in people_ids and (rel['object']['object_id'] in nature_elements_ids or rel['object']['object_id'] in urban_elements_ids or rel['object']['object_id'] in outdoor_elements_ids)) or \\\n",
        "           (rel['object']['object_id'] in people_ids and (rel['subject']['object_id'] in nature_elements_ids or rel['subject']['object_id'] in urban_elements_ids or rel['subject']['object_id'] in outdoor_elements_ids)):\n",
        "            image_ids.add(rel['image_id'])\n",
        "\n",
        "    print(f\"Step 2 - Potential Image IDs from relationships: {image_ids}\")\n",
        "\n",
        "    # Step 3: Confirm these image IDs by ensuring attributes meet the urban and nature interaction criteria\n",
        "    confirmed_image_ids = set()\n",
        "    for attr in extracted_attributes:\n",
        "        if (attr['object_id'] in nature_elements_ids or attr['object_id'] in urban_elements_ids or attr['object_id'] in outdoor_elements_ids) and attr['image_id'] in image_ids:\n",
        "            if any(attr_val.lower() in ['urban', 'natural', 'outdoor', 'green', 'architectural'] for attr_val in attr['attributes']):\n",
        "                confirmed_image_ids.add(attr['image_id'])\n",
        "\n",
        "    print(f\"Step 3 - Confirmed Image IDs: {confirmed_image_ids}\")\n",
        "\n",
        "    return list(confirmed_image_ids)\n",
        "\n",
        "# Assuming extracted_objects, extracted_attributes, and relationships_dataset are prepared\n",
        "image_ids = filter_images_with_people_nature_urban(extracted_objects, extracted_attributes, extracted_relationships)\n",
        "\n"
      ],
      "metadata": {
        "id": "lAMTme5JbCA4"
      },
      "execution_count": null,
      "outputs": []
    },
    {
      "cell_type": "code",
      "source": [
        "df[df['image_id'].isin(image_ids)]['url'].to_numpy()"
      ],
      "metadata": {
        "id": "KJQptlcCbvh6"
      },
      "execution_count": null,
      "outputs": []
    },
    {
      "cell_type": "code",
      "source": [
        "#question 3: Show scenes where various forms of transportation are depicted in close proximity to different architectural styles, such as old wooden boats near modern glass buildings, classic cars parked next to colonial houses, or bicycles leaning against brick walls."
      ],
      "metadata": {
        "id": "jXmzE09AiewM"
      },
      "execution_count": null,
      "outputs": []
    },
    {
      "cell_type": "code",
      "source": [
        "def filter_images_with_transportation_architecture(extracted_objects, extracted_attributes, extracted_relationships):\n",
        "    transportation_ids = set()\n",
        "    architecture_ids = set()\n",
        "    outdoor_elements_ids = set()\n",
        "    image_ids = set()\n",
        "\n",
        "    # Step 1: Filter for Transportation and Architectural Elements from extracted objects\n",
        "    for obj in extracted_objects:\n",
        "        if 'boat' in obj['names'] or 'car' in obj['names'] or 'bicycle' in obj['names']:\n",
        "            transportation_ids.add(obj['object_id'])\n",
        "        if 'building' in obj['names'] or 'house' in obj['names'] or 'wall' in obj['names']:\n",
        "            architecture_ids.add(obj['object_id'])\n",
        "        if 'sky' in obj['names'] or 'cloud' in obj['names'] or 'sun' in obj['names']:\n",
        "            outdoor_elements_ids.add(obj['object_id'])\n",
        "\n",
        "    print(f\"Step 1 - Transportation IDs: {transportation_ids}\")\n",
        "    print(f\"Step 1 - Architectural IDs: {architecture_ids}\")\n",
        "    print(f\"Step 1 - Outdoor Elements IDs: {outdoor_elements_ids}\")\n",
        "\n",
        "    # Step 2: Identify relationships that connect transportation with architectural styles\n",
        "    for rel in extracted_relationships:\n",
        "        if (rel['subject']['object_id'] in transportation_ids and rel['object']['object_id'] in architecture_ids) or \\\n",
        "           (rel['object']['object_id'] in transportation_ids and rel['subject']['object_id'] in architecture_ids):\n",
        "            image_ids.add(rel['image_id'])\n",
        "\n",
        "    print(f\"Step 2 - Potential Image IDs from relationships: {image_ids}\")\n",
        "\n",
        "    # Step 3: Confirm these image IDs by ensuring attributes meet the specified criteria of being next to each other\n",
        "    confirmed_image_ids = set()\n",
        "    for attr in extracted_attributes:\n",
        "        if (attr['object_id'] in architecture_ids or attr['object_id'] in transportation_ids) and attr['image_id'] in image_ids:\n",
        "            if any(attr_val.lower() in ['wooden', 'modern', 'glass', 'colonial', 'brick'] for attr_val in attr['attributes']):\n",
        "                confirmed_image_ids.add(attr['image_id'])\n",
        "\n",
        "    print(f\"Step 3 - Confirmed Image IDs: {confirmed_image_ids}\")\n",
        "\n",
        "    return list(confirmed_image_ids)\n",
        "\n",
        "# Assuming extracted_objects, extracted_attributes, and relationships_dataset are prepared\n",
        "image_ids = filter_images_with_transportation_architecture(extracted_objects, extracted_attributes, extracted_relationships)\n"
      ],
      "metadata": {
        "id": "GiKNysiSbwuB"
      },
      "execution_count": null,
      "outputs": []
    },
    {
      "cell_type": "code",
      "source": [
        "df[df['image_id'].isin(image_ids)]['url'].to_numpy()"
      ],
      "metadata": {
        "id": "wnCc7DEocdf6"
      },
      "execution_count": null,
      "outputs": []
    },
    {
      "cell_type": "code",
      "source": [
        "#question 4: Show images of colorful gardens where you can see different types of flowers in both urban and rural settings, possibly with people enjoying the scenery or tending to the plants."
      ],
      "metadata": {
        "id": "JZESXN3KiXGy"
      },
      "execution_count": null,
      "outputs": []
    },
    {
      "cell_type": "code",
      "source": [
        "def filter_images_with_colorful_gardens(extracted_objects, extracted_attributes, extracted_relationships):\n",
        "    garden_ids, flower_ids, people_ids = set(), set(), set()\n",
        "    outdoor_elements_ids = set()\n",
        "    image_ids = set()\n",
        "\n",
        "    # Step 1: Filter for Gardens, Flowers, and People from extracted objects\n",
        "    for obj in extracted_objects:\n",
        "        if 'garden' in obj['names']:\n",
        "            garden_ids.add(obj['object_id'])\n",
        "        if 'flower' in obj['names']:\n",
        "            flower_ids.add(obj['object_id'])\n",
        "        if 'man' in obj['names'] or 'woman' in obj['names'] or 'person' in obj['names']:\n",
        "            people_ids.add(obj['object_id'])\n",
        "        if 'sky' in obj['names'] or 'cloud' in obj['names'] or 'sun' in obj['names']:\n",
        "            outdoor_elements_ids.add(obj['object_id'])\n",
        "\n",
        "    print(f\"Step 1 - Garden IDs: {garden_ids}\")\n",
        "    print(f\"Step 1 - Flower IDs: {flower_ids}\")\n",
        "    print(f\"Step 1 - People IDs: {people_ids}\")\n",
        "    print(f\"Step 1 - Outdoor Elements IDs: {outdoor_elements_ids}\")\n",
        "\n",
        "    # Step 2: Identify relationships involving gardens and flowers, and possibly people\n",
        "    for rel in extracted_relationships:\n",
        "        if (rel['subject']['object_id'] in garden_ids and rel['object']['object_id'] in flower_ids) or \\\n",
        "           (rel['object']['object_id'] in garden_ids and rel['subject']['object_id'] in flower_ids) or \\\n",
        "           (rel['subject']['object_id'] in people_ids and rel['object']['object_id'] in garden_ids):\n",
        "            image_ids.add(rel['image_id'])\n",
        "\n",
        "    print(f\"Step 2 - Potential Image IDs from relationships: {image_ids}\")\n",
        "\n",
        "    # Step 3: Confirm these image IDs by ensuring attributes meet the specified criteria of colorful and diverse\n",
        "    confirmed_image_ids = set()\n",
        "    for attr in extracted_attributes:\n",
        "        if attr['object_id'] in flower_ids and attr['image_id'] in image_ids:\n",
        "            if any(color in [a.lower() for a in attr['attributes'] if a] for color in ['colorful', 'diverse']):\n",
        "                confirmed_image_ids.add(attr['image_id'])\n",
        "\n",
        "    print(f\"Step 3 - Confirmed Image IDs: {confirmed_image_ids}\")\n",
        "\n",
        "    return list(confirmed_image_ids)\n",
        "\n",
        "# Assuming extracted_objects, extracted_attributes, and relationships_dataset are prepared\n",
        "image_ids = filter_images_with_colorful_gardens(extracted_objects, extracted_attributes, extracted_relationships)\n",
        "\n"
      ],
      "metadata": {
        "id": "--9K0jhvceS3"
      },
      "execution_count": null,
      "outputs": []
    },
    {
      "cell_type": "code",
      "source": [
        "df[df['image_id'].isin(image_ids)]['url'].to_numpy()"
      ],
      "metadata": {
        "id": "MewyR2IBefAw"
      },
      "execution_count": null,
      "outputs": []
    },
    {
      "cell_type": "code",
      "source": [
        "#question 5: Depict scenes where individuals are engaged in outdoor sports, such as playing basketball outside, skateboarding down city sidewalks, or practicing yoga in serene park settings"
      ],
      "metadata": {
        "id": "4HPh-9zLinOH"
      },
      "execution_count": null,
      "outputs": []
    },
    {
      "cell_type": "code",
      "source": [
        "def filter_images_with_outdoor_sports(extracted_objects, extracted_attributes, extracted_relationships):\n",
        "    sports_ids, outdoor_elements_ids = set(), set()\n",
        "    image_ids = set()\n",
        "\n",
        "    # Step 1: Filter for sports-related objects and general outdoor elements\n",
        "    for obj in extracted_objects:\n",
        "        if any(sport in obj['names'] for sport in ['basketball', 'skateboarding', 'yoga', 'soccer', 'tennis', 'baseball', 'running', 'cycling', 'volleyball', 'golf', 'surfing', 'swimming', 'rowing', 'hiking', 'rock climbing', 'rugby', 'frisbee', 'hockey', 'martial arts', 'archery']):\n",
        "            sports_ids.add(obj['object_id'])\n",
        "        if 'grass' in obj['names'] or 'park' in obj['names'] or 'sky' in obj['names'] or 'cloud' in obj['names'] or 'sun' in obj['names']:  # Confirm outdoor setting\n",
        "            outdoor_elements_ids.add(obj['object_id'])\n",
        "\n",
        "    print(f\"Step 1 - Sports-related IDs: {sports_ids}\")\n",
        "    print(f\"Step 1 - Outdoor Elements IDs: {outdoor_elements_ids}\")\n",
        "\n",
        "    # Step 2: Identify relationships that indicate sports activities occurring in outdoor settings\n",
        "    for rel in extracted_relationships:\n",
        "        if (rel['subject']['object_id'] in sports_ids and rel['object']['object_id'] in outdoor_elements_ids) or \\\n",
        "           (rel['object']['object_id'] in sports_ids and rel['subject']['object_id'] in outdoor_elements_ids):\n",
        "            image_ids.add(rel['image_id'])\n",
        "\n",
        "    print(f\"Step 2 - Potential Image IDs from relationships: {image_ids}\")\n",
        "\n",
        "    # Step 3: Confirm these image IDs are truly depicting outdoor sports activities\n",
        "    confirmed_image_ids = set()\n",
        "    for attr in extracted_attributes:\n",
        "        if attr['object_id'] in sports_ids and attr['image_id'] in image_ids:\n",
        "            if attr['attributes'] and any(activity in [a.lower() for a in attr['attributes'] if a] for activity in ['sport', 'playing', 'practicing']):\n",
        "                confirmed_image_ids.add(attr['image_id'])\n",
        "\n",
        "    print(f\"Step 3 - Confirmed Image IDs: {confirmed_image_ids}\")\n",
        "\n",
        "    return list(confirmed_image_ids)\n",
        "\n",
        "# Assuming extracted_objects, extracted_attributes, and relationships_dataset are prepared\n",
        "image_ids = filter_images_with_outdoor_sports(extracted_objects, extracted_attributes, extracted_relationships)\n",
        "\n"
      ],
      "metadata": {
        "id": "dTZsajiigAUs"
      },
      "execution_count": null,
      "outputs": []
    },
    {
      "cell_type": "code",
      "source": [
        "df[df['image_id'].isin(image_ids)]['url'].to_numpy()"
      ],
      "metadata": {
        "id": "_oELTSCmhcoG"
      },
      "execution_count": null,
      "outputs": []
    }
  ]
}